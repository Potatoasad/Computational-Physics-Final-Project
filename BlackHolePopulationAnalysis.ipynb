{
 "cells": [
  {
   "cell_type": "markdown",
   "id": "79c6dfba-cb38-4d58-82f4-06196f9dcd61",
   "metadata": {},
   "source": [
    "# Inferring the Redshift Distribution of Gravitational Waves"
   ]
  },
  {
   "cell_type": "markdown",
   "id": "d591315e-6453-422c-91ab-0688de822f47",
   "metadata": {},
   "source": [
    "# Hierarchical Likelihood Inference"
   ]
  },
  {
   "cell_type": "code",
   "execution_count": 66,
   "id": "e3b5350b-f1b3-4385-b07d-63b277f0068c",
   "metadata": {},
   "outputs": [],
   "source": [
    "import numpy as np\n",
    "import pandas as pd\n",
    "import json\n",
    "import jax.numpy as jnp\n",
    "\n",
    "with open(f\"./event_posterior_samples.json\", \"r\") as f:\n",
    "    event_samples = {k:pd.DataFrame(v) for k,v in json.load(f).items()}\n",
    "\n",
    "eventnames = []\n",
    "posteriors = []\n",
    "for event, posterior in event_samples.items():\n",
    "    eventnames.append(event)\n",
    "    posteriors.append(posterior)"
   ]
  },
  {
   "cell_type": "code",
   "execution_count": 67,
   "id": "0006f78e-654f-41af-9b43-10ad36d570b8",
   "metadata": {},
   "outputs": [],
   "source": [
    "with open(f\"./selection_function_samples.json\", \"r\") as f:\n",
    "    selection_samples = pd.DataFrame(json.load(f))\n",
    "\n",
    "selections_jaxed = {col: jnp.array(selection_samples[col][1:100]) for col in selection_samples.columns if col not in ['waveform_name', 'name']}"
   ]
  },
  {
   "cell_type": "code",
   "execution_count": 68,
   "id": "89e5c536-4207-4fe5-b3fa-d406eea67fe3",
   "metadata": {},
   "outputs": [],
   "source": [
    "posteriors_jaxed = [{col: jnp.array(post[col][1:100]) for col in post.columns if col not in ['waveform_name']} for post in posteriors]"
   ]
  },
  {
   "cell_type": "markdown",
   "id": "622fb1bf-b1d2-4fe2-a74b-a271222f44a9",
   "metadata": {},
   "source": [
    "## Population Model Recap\n",
    "\n",
    "We use individual event likelihoods to infer the hierarchical model. \n",
    "$$\n",
    "\\begin{equation}\n",
    "p(\\Lambda \\mid d) \\propto p(\\Lambda)\\prod_i^N \\mathcal{L}\\left(d_i \\mid \\Lambda\\right)\n",
    "\\end{equation}\n",
    "$$\n",
    "where\n",
    "$$\n",
    "\\begin{equation}\n",
    "\\mathcal{L}\\left(d_i \\mid \\Lambda\\right) \\propto \\int \\frac{p\\left(\\theta \\mid d_i\\right) p(\\theta \\mid \\Lambda)}{p(\\theta)} d \\theta \\approx \n",
    "\\left\\langle  \\frac{p(\\theta \\mid \\Lambda)}{p(\\theta)}  \\right\\rangle_{\\sim p\\left(\\theta \\mid d_i\\right)}\n",
    "\\end{equation}\n",
    "$$\n",
    "\n",
    "We will \"recycle\" these posteriors and get the result for the following population model:\n"
   ]
  },
  {
   "cell_type": "code",
   "execution_count": 69,
   "id": "d460b0a7-9a81-407c-bda3-7424a96fb770",
   "metadata": {},
   "outputs": [],
   "source": [
    "import jax.numpy as jnp\n",
    "import jax"
   ]
  },
  {
   "cell_type": "code",
   "execution_count": 70,
   "id": "404fda36-f947-4bf2-93f8-98e6fb2fec1c",
   "metadata": {},
   "outputs": [],
   "source": [
    "## Mass model\n",
    "def power_law(x, L, a, b):\n",
    "    normalization = (L + 1) / (jnp.power(b, L+1) - jnp.power(a, L+1))\n",
    "    return jnp.power(x,L) * normalization\n",
    "\n",
    "def trunc_normal_pdf(x, mu, sig, a, b):\n",
    "    a_std, b_std = (a - mu) / sig, (b - mu) / sig\n",
    "    return jax.scipy.stats.truncnorm.pdf(x, a_std, b_std, loc=mu, scale=sig)"
   ]
  },
  {
   "cell_type": "code",
   "execution_count": 71,
   "id": "c192e6fe-345c-4d5d-9c1e-52cc0efa84b6",
   "metadata": {},
   "outputs": [],
   "source": [
    "class MassModel:\n",
    "    def __init__(self, m_min, m_max):\n",
    "        self.m_min = m_min\n",
    "        self.m_max = m_max\n",
    "\n",
    "    def pdf(self, data, params):\n",
    "        p_m_power_law = power_law(data['mass_1_source'], params['lambda'], self.m_min, self.m_max)\n",
    "        p_m_peak = trunc_normal_pdf(data['mass_1_source'], params['mu_m'], params['sigma_m'], self.m_min, self.m_max)\n",
    "        p_q = power_law(data['mass_ratio'], params['gamma'], self.m_min/data['mass_1_source'], 1.0)\n",
    "        p_m = params['fp'] * p_m_power_law + (1 - params['fp']) * p_m_peak\n",
    "        return p_m*p_q\n",
    "\n",
    "    def __call__(self, data, params):\n",
    "        return self.pdf(data, params)"
   ]
  },
  {
   "cell_type": "code",
   "execution_count": 72,
   "id": "0386bd03-befe-4b61-b388-4f8707f12b3e",
   "metadata": {},
   "outputs": [],
   "source": [
    "class Redshift:\n",
    "    def __init__(self, z_max):\n",
    "        from astropy.cosmology import Planck15\n",
    "        self.z = jnp.linspace(0,z_max,300)\n",
    "        self.y = Planck15.differential_comoving_volume(self.z).value * 4 * np.pi\n",
    "        self.kappas = jnp.linspace(-10,10,3000)\n",
    "        self._kappa_norms = None\n",
    "\n",
    "    def dVdz(self, z):\n",
    "        return jnp.interp(z, self.z, self.y)\n",
    "\n",
    "    def normalization_func(self, z, kappa):\n",
    "        return (1 + z)**(kappa - 1) * self.dVdz(z)\n",
    "\n",
    "    @property\n",
    "    def kappa_norms(self):\n",
    "        if self._kappa_norms is None:\n",
    "            self._normalize()\n",
    "        return self._kappa_norms\n",
    "\n",
    "    def _normalize(self):\n",
    "        self._kappa_norms = jnp.array([jax.scipy.integrate.trapezoid(self.normalization_func(self.z, float(self.kappas[i])), self.z) for i in range(len(self.kappas))])\n",
    "\n",
    "    def normalization(self, kappa):\n",
    "        return jnp.interp(kappa, self.kappas, self.kappa_norms)\n",
    "    \n",
    "    def __call__(self, data, params):\n",
    "        un_normalized = self.dVdz(data['redshift']) * ((1 + data['redshift']) ** (params[\"kappa\"]-1))\n",
    "        return un_normalized#/self.normalization(params['kappa'])"
   ]
  },
  {
   "cell_type": "code",
   "execution_count": 73,
   "id": "e41c01fb-b75c-4d3d-9207-e370b46ed742",
   "metadata": {},
   "outputs": [],
   "source": [
    "R = Redshift(1.9)\n",
    "M = MassModel(2.0, 100.0)"
   ]
  },
  {
   "cell_type": "code",
   "execution_count": 74,
   "id": "8b76f32e-e732-4934-a186-9e08e7693428",
   "metadata": {},
   "outputs": [
    {
     "data": {
      "text/plain": [
       "Array(-inf, dtype=float32, weak_type=True)"
      ]
     },
     "execution_count": 74,
     "metadata": {},
     "output_type": "execute_result"
    }
   ],
   "source": [
    "jnp.log(0)"
   ]
  },
  {
   "cell_type": "code",
   "execution_count": 75,
   "id": "d8df5be3-93b5-4850-b813-92e0f9493677",
   "metadata": {},
   "outputs": [],
   "source": [
    "Lambda_0 = {'lambda' : 0.35, \"gamma\": 1.1, 'fp':0.98, 'mu_m':33.0, 'sigma_m':4.0, 'kappa':2.9}\n",
    "\n",
    "class CustomLikelihood:\n",
    "    def __init__(self, all_posteriors, selections, domain_changer=None):\n",
    "        self.all_posteriors = all_posteriors\n",
    "        self.selections = selections\n",
    "        self.domain_changer = domain_changer\n",
    "\n",
    "    def logpdf(self, x):\n",
    "        #x = self.domain_changer.inverse_transform(x, suffix='')\n",
    "\n",
    "        #event_likelihoods = jnp.sum(jnp.array([jnp.log(jnp.mean( ( R(post, x) / post[\"prior\"]) )) for post in self.all_posteriors]))\n",
    "        #selection_effects = -len(self.all_posteriors) * jnp.log( jnp.mean(  R(self.selections, x) / self.selections[\"prior\"]) )\n",
    "\n",
    "        event_likelihoods = jnp.sum(jnp.array([jax.scipy.special.logsumexp( (jnp.log(M(post, x)) + jnp.log(R(post, x)) - jnp.log(post[\"prior\"])) ) for post in self.all_posteriors]))\n",
    "        selection_effects = -len(self.all_posteriors) * jax.scipy.special.logsumexp( jnp.log(M(self.selections, x)) + jnp.log(R(self.selections, x)) - jnp.log(self.selections[\"prior\"]))\n",
    "        return event_likelihoods + selection_effects"
   ]
  },
  {
   "cell_type": "code",
   "execution_count": 76,
   "id": "d122a232-2e2a-46ff-8aa4-cf343dcf04f8",
   "metadata": {},
   "outputs": [
    {
     "data": {
      "text/plain": [
       "[Array(29.063528, dtype=float32),\n",
       " Array(29.296207, dtype=float32),\n",
       " Array(28.730988, dtype=float32),\n",
       " Array(30.026285, dtype=float32)]"
      ]
     },
     "execution_count": 76,
     "metadata": {},
     "output_type": "execute_result"
    }
   ],
   "source": [
    "xx = Lambda_0\n",
    "[jax.scipy.special.logsumexp( (jnp.log(M(post, xx)) + jnp.log(R(post, xx)) - jnp.log(post[\"prior\"])) ) for post in CL.all_posteriors]"
   ]
  },
  {
   "cell_type": "code",
   "execution_count": 77,
   "id": "a2b45ec8-6f4b-468f-9fb4-c9c8fff3def2",
   "metadata": {},
   "outputs": [
    {
     "data": {
      "text/plain": [
       "Array([-4.0744343, -3.7781596, -4.3720403, -4.3257694, -4.364632 ,\n",
       "       -4.5319657, -4.003056 , -3.9459348, -4.3209996, -4.299395 ,\n",
       "       -4.5517774, -3.7515955, -4.5385385, -4.3292427, -3.8373022,\n",
       "       -4.865652 , -4.2302246, -5.0901227, -4.623945 , -3.788977 ,\n",
       "       -4.393778 , -4.451396 , -4.04531  , -5.025048 , -4.018203 ,\n",
       "       -4.133718 , -4.1728706, -3.652748 , -3.8870146, -4.0651493,\n",
       "       -4.0294333, -4.166397 , -3.8068519, -5.4486375, -4.0564566,\n",
       "       -4.494532 , -4.8225727, -4.025822 , -4.078074 , -4.556605 ,\n",
       "       -4.4665117, -3.8687031, -4.685015 , -3.9500036, -4.0441437,\n",
       "       -3.7761753, -4.353337 , -4.2116346, -4.4858165, -4.146921 ,\n",
       "       -3.906707 , -4.157193 , -4.1976175, -4.3187466, -4.3017416,\n",
       "       -4.750317 , -4.014643 , -4.7964463, -4.20704  , -4.509666 ,\n",
       "       -5.0779543, -4.0109224, -4.610865 , -4.154706 , -4.5682025,\n",
       "       -4.5149727, -4.3083477, -4.4953356, -4.1376243, -4.380774 ,\n",
       "       -4.1108646, -4.0744257, -4.3313   , -3.7708158, -3.8645306,\n",
       "       -4.1452847, -4.397579 , -4.6692815, -3.9069366, -4.431514 ,\n",
       "       -4.6908426, -4.7887287, -3.7573967, -3.8127525, -4.311419 ,\n",
       "       -4.3952255, -3.8930278, -5.2773433, -4.244849 , -4.2674613,\n",
       "       -3.9917629, -4.7674007, -4.5773544, -4.0572047, -4.200065 ,\n",
       "       -4.2584143, -4.472645 , -4.7996554, -4.070426 ], dtype=float32)"
      ]
     },
     "execution_count": 77,
     "metadata": {},
     "output_type": "execute_result"
    }
   ],
   "source": [
    "jnp.log(M(CL.selections, xx)) \n",
    "#CL.selections\n",
    "#+ jnp.log(R(CL.selections, xx)) - jnp.log(CL.selections[\"prior\"])"
   ]
  },
  {
   "cell_type": "code",
   "execution_count": 78,
   "id": "92a02f24-70d2-4500-a34c-a426dd8d3c46",
   "metadata": {},
   "outputs": [],
   "source": [
    "from bayesian_inference import NUTS, MHSampler\n",
    "import jax\n",
    "\n",
    " #DC = DomainChanger()\n",
    "limits = {'lambda' : [-5,2], \"gamma\": [-3,3], 'fp':[0,1], 'mu_m':[10,50], 'sigma_m':[3,10], 'kappa':[0,10]}\n",
    "#DC = DomainChanger(limits)\n",
    "\n",
    "Lambda_0 = {'lambda' : -2.35, \"gamma\": 1.1, 'fp':0.98, 'mu_m':33.0, 'sigma_m':4.0, 'kappa':2.9}\n",
    "#DC.transform_in_place(Lambda_0)\n",
    "#Lambda_0"
   ]
  },
  {
   "cell_type": "code",
   "execution_count": 79,
   "id": "cf2b6055-eb8c-4843-ab4e-6354332cb164",
   "metadata": {},
   "outputs": [],
   "source": [
    "CL = CustomLikelihood(posteriors_jaxed, selections_jaxed)"
   ]
  },
  {
   "cell_type": "code",
   "execution_count": 80,
   "id": "31a70564-1415-4426-a193-42a4cdb0a29d",
   "metadata": {},
   "outputs": [
    {
     "name": "stdout",
     "output_type": "stream",
     "text": [
      "-498.0\n"
     ]
    },
    {
     "data": {
      "text/plain": [
       "{'fp': Array(115.28646, dtype=float32, weak_type=True),\n",
       " 'gamma': Array(-6.5014105, dtype=float32, weak_type=True),\n",
       " 'kappa': Array(-0.32410687, dtype=float32, weak_type=True),\n",
       " 'lambda': Array(-5.3908014, dtype=float32, weak_type=True),\n",
       " 'mu_m': Array(-0.3315344, dtype=float32, weak_type=True),\n",
       " 'sigma_m': Array(1.5914199, dtype=float32, weak_type=True)}"
      ]
     },
     "execution_count": 80,
     "metadata": {},
     "output_type": "execute_result"
    }
   ],
   "source": [
    "print(CL.logpdf(Lambda_0))\n",
    "new = jax.grad(CL.logpdf)\n",
    "new(Lambda_0)\n",
    "#new(kappa_0)"
   ]
  },
  {
   "cell_type": "code",
   "execution_count": 81,
   "id": "34f2290b-aced-4a67-9fc0-d837c263b3a1",
   "metadata": {},
   "outputs": [
    {
     "name": "stderr",
     "output_type": "stream",
     "text": [
      "2023-12-05 18:17:06.258953: E external/xla/xla/service/slow_operation_alarm.cc:65] \n",
      "********************************\n",
      "[Compiling module jit_scan] Very slow compile? If you want to file a bug, run with envvar XLA_FLAGS=--xla_dump_to=/tmp/foo and attach the results.\n",
      "********************************\n",
      "2023-12-05 18:18:53.869471: E external/xla/xla/service/slow_operation_alarm.cc:133] The operation took 3m47.615059s\n",
      "\n",
      "********************************\n",
      "[Compiling module jit_scan] Very slow compile? If you want to file a bug, run with envvar XLA_FLAGS=--xla_dump_to=/tmp/foo and attach the results.\n",
      "********************************\n"
     ]
    }
   ],
   "source": [
    "N = NUTS(CL, Lambda_0, limits=limits, step_size=0.1)"
   ]
  },
  {
   "cell_type": "code",
   "execution_count": null,
   "id": "40a2d25b-ce74-481d-881b-01a7cbf7b613",
   "metadata": {},
   "outputs": [
    {
     "name": "stdout",
     "output_type": "stream",
     "text": [
      "Running the inference for 100 samples\n"
     ]
    }
   ],
   "source": [
    "result = N.run(100)"
   ]
  },
  {
   "cell_type": "code",
   "execution_count": null,
   "id": "3b53a263-c479-4bf4-b5b7-0865a7bb1806",
   "metadata": {},
   "outputs": [],
   "source": [
    "df = pd.DataFrame(result)"
   ]
  },
  {
   "cell_type": "code",
   "execution_count": null,
   "id": "fab6851d-ebc2-41ef-b7bb-eb5e796c6b8a",
   "metadata": {},
   "outputs": [],
   "source": [
    "df"
   ]
  },
  {
   "cell_type": "code",
   "execution_count": 92,
   "id": "b54f28ea-39b8-4619-8198-6de9c76dc9f4",
   "metadata": {},
   "outputs": [],
   "source": [
    "N.domain_changer.inverse_transforms['fp'](N.states.position['fp']);"
   ]
  },
  {
   "cell_type": "code",
   "execution_count": 104,
   "id": "1dee9bae-b21f-4d2d-81a4-9b88dc46f579",
   "metadata": {},
   "outputs": [
    {
     "data": {
      "text/plain": [
       "'fp'"
      ]
     },
     "execution_count": 104,
     "metadata": {},
     "output_type": "execute_result"
    }
   ],
   "source": [
    "thefunc = {key: (lambda x, key=key: f\"{key}\" ) for key in N.domain_changer.ranges.keys()}\n",
    "\n",
    "thefunc['fp']('asad')"
   ]
  },
  {
   "cell_type": "code",
   "execution_count": 44,
   "id": "6867598e-31a4-4201-9a9b-9db60a106f08",
   "metadata": {},
   "outputs": [
    {
     "data": {
      "text/plain": [
       "[<matplotlib.lines.Line2D at 0x29b793c10>]"
      ]
     },
     "execution_count": 44,
     "metadata": {},
     "output_type": "execute_result"
    },
    {
     "data": {
      "image/png": "[encoded data removed]",
      "text/plain": [
       "<Figure size 640x480 with 1 Axes>"
      ]
     },
     "metadata": {},
     "output_type": "display_data"
    }
   ],
   "source": [
    "\n",
    "test_func = lambda x: N.domain_changer.inverse_transform_from_infinite(N.domain_changer.transform_to_infinite(x, 0, 1), 0, 1)\n",
    "\n",
    "import matplotlib.pyplot as plt\n",
    "plt.plot(np.linspace(0,1,100),  test_func(np.linspace(0,1,100)))"
   ]
  },
  {
   "cell_type": "code",
   "execution_count": 53,
   "id": "57b62789-e38b-450c-ba26-5bee1579d069",
   "metadata": {},
   "outputs": [],
   "source": [
    "result_transformed = {k:jnp.array(result[k]) for k in result.copy().columns}\n",
    "CL.domain_changer.inverse_transform_in_place(result_transformed)\n",
    "result_transformed = pd.DataFrame(result_transformed)"
   ]
  },
  {
   "cell_type": "code",
   "execution_count": 56,
   "id": "08441862-9ef0-46c6-ae6e-dea1542e022f",
   "metadata": {},
   "outputs": [
    {
     "data": {
      "text/html": [
       "<div>\n",
       "<style scoped>\n",
       "    .dataframe tbody tr th:only-of-type {\n",
       "        vertical-align: middle;\n",
       "    }\n",
       "\n",
       "    .dataframe tbody tr th {\n",
       "        vertical-align: top;\n",
       "    }\n",
       "\n",
       "    .dataframe thead th {\n",
       "        text-align: right;\n",
       "    }\n",
       "</style>\n",
       "<table border=\"1\" class=\"dataframe\">\n",
       "  <thead>\n",
       "    <tr style=\"text-align: right;\">\n",
       "      <th></th>\n",
       "      <th>fp</th>\n",
       "      <th>gamma</th>\n",
       "      <th>kappa</th>\n",
       "      <th>lambda</th>\n",
       "      <th>mu_m</th>\n",
       "      <th>sigma_m</th>\n",
       "    </tr>\n",
       "  </thead>\n",
       "  <tbody>\n",
       "    <tr>\n",
       "      <th>0</th>\n",
       "      <td>-48.664772</td>\n",
       "      <td>-60.587166</td>\n",
       "      <td>304.759216</td>\n",
       "      <td>502.089325</td>\n",
       "      <td>12.630095</td>\n",
       "      <td>75.958687</td>\n",
       "    </tr>\n",
       "    <tr>\n",
       "      <th>1</th>\n",
       "      <td>-79.967819</td>\n",
       "      <td>-51.738228</td>\n",
       "      <td>420.871521</td>\n",
       "      <td>306.243378</td>\n",
       "      <td>6.227320</td>\n",
       "      <td>69.513924</td>\n",
       "    </tr>\n",
       "    <tr>\n",
       "      <th>2</th>\n",
       "      <td>-72.176231</td>\n",
       "      <td>-51.131386</td>\n",
       "      <td>422.118530</td>\n",
       "      <td>295.722443</td>\n",
       "      <td>7.424504</td>\n",
       "      <td>70.870544</td>\n",
       "    </tr>\n",
       "    <tr>\n",
       "      <th>3</th>\n",
       "      <td>-26.729658</td>\n",
       "      <td>-81.329216</td>\n",
       "      <td>699.901550</td>\n",
       "      <td>260.087189</td>\n",
       "      <td>60.403507</td>\n",
       "      <td>68.422508</td>\n",
       "    </tr>\n",
       "    <tr>\n",
       "      <th>4</th>\n",
       "      <td>-5.078474</td>\n",
       "      <td>-33.296501</td>\n",
       "      <td>1028.398315</td>\n",
       "      <td>63.173100</td>\n",
       "      <td>46.668640</td>\n",
       "      <td>82.971046</td>\n",
       "    </tr>\n",
       "    <tr>\n",
       "      <th>...</th>\n",
       "      <td>...</td>\n",
       "      <td>...</td>\n",
       "      <td>...</td>\n",
       "      <td>...</td>\n",
       "      <td>...</td>\n",
       "      <td>...</td>\n",
       "    </tr>\n",
       "    <tr>\n",
       "      <th>995</th>\n",
       "      <td>466.398560</td>\n",
       "      <td>310.527985</td>\n",
       "      <td>796.583740</td>\n",
       "      <td>-53.908718</td>\n",
       "      <td>752.968811</td>\n",
       "      <td>1484.310425</td>\n",
       "    </tr>\n",
       "    <tr>\n",
       "      <th>996</th>\n",
       "      <td>465.000519</td>\n",
       "      <td>312.826385</td>\n",
       "      <td>801.687073</td>\n",
       "      <td>-81.881317</td>\n",
       "      <td>763.814575</td>\n",
       "      <td>1500.555176</td>\n",
       "    </tr>\n",
       "    <tr>\n",
       "      <th>997</th>\n",
       "      <td>468.122314</td>\n",
       "      <td>310.471375</td>\n",
       "      <td>834.728027</td>\n",
       "      <td>-85.735611</td>\n",
       "      <td>766.050659</td>\n",
       "      <td>1489.450928</td>\n",
       "    </tr>\n",
       "    <tr>\n",
       "      <th>998</th>\n",
       "      <td>493.003967</td>\n",
       "      <td>332.404114</td>\n",
       "      <td>967.518677</td>\n",
       "      <td>-29.848114</td>\n",
       "      <td>791.934082</td>\n",
       "      <td>1519.297119</td>\n",
       "    </tr>\n",
       "    <tr>\n",
       "      <th>999</th>\n",
       "      <td>500.178162</td>\n",
       "      <td>336.023285</td>\n",
       "      <td>963.884094</td>\n",
       "      <td>-12.837432</td>\n",
       "      <td>791.861694</td>\n",
       "      <td>1535.195679</td>\n",
       "    </tr>\n",
       "  </tbody>\n",
       "</table>\n",
       "<p>1000 rows × 6 columns</p>\n",
       "</div>"
      ],
      "text/plain": [
       "             fp       gamma        kappa      lambda        mu_m      sigma_m\n",
       "0    -48.664772  -60.587166   304.759216  502.089325   12.630095    75.958687\n",
       "1    -79.967819  -51.738228   420.871521  306.243378    6.227320    69.513924\n",
       "2    -72.176231  -51.131386   422.118530  295.722443    7.424504    70.870544\n",
       "3    -26.729658  -81.329216   699.901550  260.087189   60.403507    68.422508\n",
       "4     -5.078474  -33.296501  1028.398315   63.173100   46.668640    82.971046\n",
       "..          ...         ...          ...         ...         ...          ...\n",
       "995  466.398560  310.527985   796.583740  -53.908718  752.968811  1484.310425\n",
       "996  465.000519  312.826385   801.687073  -81.881317  763.814575  1500.555176\n",
       "997  468.122314  310.471375   834.728027  -85.735611  766.050659  1489.450928\n",
       "998  493.003967  332.404114   967.518677  -29.848114  791.934082  1519.297119\n",
       "999  500.178162  336.023285   963.884094  -12.837432  791.861694  1535.195679\n",
       "\n",
       "[1000 rows x 6 columns]"
      ]
     },
     "execution_count": 56,
     "metadata": {},
     "output_type": "execute_result"
    }
   ],
   "source": [
    "result"
   ]
  },
  {
   "cell_type": "code",
   "execution_count": 21,
   "id": "75dc883f-ae82-4072-b85c-dd49e6993b01",
   "metadata": {},
   "outputs": [
    {
     "name": "stdout",
     "output_type": "stream",
     "text": [
      "{'m': Array([0.1], dtype=float32), 'c': Array([0.], dtype=float32)} {'m': Array([0.05001042], dtype=float32), 'c': Array([0.], dtype=float32)}\n"
     ]
    }
   ],
   "source": [
    "from bayesian_inference import NUTS\n",
    "import jax\n",
    "import jax.numpy as jnp\n",
    "\n",
    "class LinearRegressor:\n",
    "    def __init__(self, X, Y, noise=1):\n",
    "        self.X = X\n",
    "        self.Y = Y\n",
    "        self.noise = noise\n",
    "\n",
    "    def logpdf(self, x):\n",
    "        Z = (self.Y - x['m']*self.X - x['c'])/self.noise\n",
    "        return jnp.sum(-(Z**2))/2 \n",
    "\n",
    "\n",
    "key = jax.random.PRNGKey(1)\n",
    "\n",
    "m = 2.0\n",
    "c = 2.0\n",
    "X = jnp.linspace(0,10,100)\n",
    "noise_amount = 1.0\n",
    "eps = noise_amount*jax.random.normal(key, X.shape)\n",
    "\n",
    "Y = m*X + c + eps\n",
    "\n",
    "LR = LinearRegressor(X,Y,noise=noise_amount)  # Instantiate the model\n",
    "\n",
    "initial_position = {'m':0.1, 'c':0.0} # starting point of the NUTS sampler\n",
    "problem = NUTS(LR, initial_position, limits={'m': [-4,4], 'c':[-4,4]})"
   ]
  },
  {
   "cell_type": "code",
   "execution_count": 22,
   "id": "37a02312-9c07-4a1f-b4c6-5ff98db5f88c",
   "metadata": {},
   "outputs": [
    {
     "data": {
      "text/plain": [
       "Array(-8175.563, dtype=float32)"
      ]
     },
     "execution_count": 22,
     "metadata": {},
     "output_type": "execute_result"
    }
   ],
   "source": [
    "problem.likelihood_func( problem.domain_changer.transform(initial_position) )"
   ]
  },
  {
   "cell_type": "code",
   "execution_count": 23,
   "id": "0e1cdb86-aec0-42cd-b9d7-37fe35d799af",
   "metadata": {},
   "outputs": [
    {
     "data": {
      "text/plain": [
       "Array(-8176.9478, dtype=float32)"
      ]
     },
     "execution_count": 23,
     "metadata": {},
     "output_type": "execute_result"
    }
   ],
   "source": [
    "problem.likelihood.logpdf(initial_position)"
   ]
  },
  {
   "cell_type": "code",
   "execution_count": 24,
   "id": "65b212b7-7f4e-4231-a2a4-7b5ed8ac6857",
   "metadata": {},
   "outputs": [
    {
     "name": "stdout",
     "output_type": "stream",
     "text": [
      "Running the inference for 1000 samples\n"
     ]
    }
   ],
   "source": [
    "result1 = problem.run(1000)"
   ]
  },
  {
   "cell_type": "code",
   "execution_count": 25,
   "id": "3f9f9e5a-358e-4184-a473-57333dd8f9d8",
   "metadata": {},
   "outputs": [
    {
     "data": {
      "text/plain": [
       "array([[<Axes: title={'center': 'm'}>, <Axes: title={'center': 'c'}>]],\n",
       "      dtype=object)"
      ]
     },
     "execution_count": 25,
     "metadata": {},
     "output_type": "execute_result"
    },
    {
     "data": {
      "image/png": "[encoded data removed]",
      "text/plain": [
       "<Figure size 640x480 with 2 Axes>"
      ]
     },
     "metadata": {},
     "output_type": "display_data"
    }
   ],
   "source": [
    "import pandas as pd\n",
    "#pd.DataFrame(problem.domain_changer.inverse_transform(problem.states.position)).hist()\n",
    "result1.hist()"
   ]
  },
  {
   "cell_type": "markdown",
   "id": "fccbf03c-18d9-4da7-a44e-33b4aa0035c8",
   "metadata": {},
   "source": [
    "## Using Metropolis Hastings & JAX"
   ]
  },
  {
   "cell_type": "code",
   "execution_count": 44,
   "id": "992ad357-eae8-4470-b842-4e33b3008ecc",
   "metadata": {},
   "outputs": [],
   "source": [
    "from bayesian_inference import NUTS, MHSampler\n",
    "import jax\n",
    "import jax.numpy as jnp\n",
    "import scipy\n",
    "\n",
    "class CoinFlip:\n",
    "    def __init__(self, N_flips, number_of_heads):\n",
    "        self.head_counts = number_of_heads \n",
    "        self.N_flips = N_flips\n",
    "\n",
    "    def logpdf(self, x):\n",
    "        p = x['p']\n",
    "        return jnp.sum( jax.scipy.stats.binom.logpmf(self.head_counts, self.N_flips, p) )\n",
    "        \n",
    "\n",
    "\n",
    "key = jax.random.PRNGKey(1)\n",
    "\n",
    "\n",
    "N_experiments = 100\n",
    "N_flips = 10\n",
    "p = 0.7\n",
    "\n",
    "import scipy\n",
    "rv = scipy.stats.binom(N_flips, p)\n",
    "head_counts = jnp.array(rv.rvs(N_experiments))\n",
    "\n",
    "#CoinFlip(10, head_counts).logpdf({'p':0.7})\n",
    "#LR = LinearRegressor(X,Y,noise=noise_amount)  # Instantiate the model\n",
    "\n",
    "#initial_position = {'m':0.1, 'c':0.0} # starting point of the NUTS sampler\n",
    "#problem = NUTS(LR, initial_position, limits={'m': [-4,4], 'c':[-4,4]})"
   ]
  },
  {
   "cell_type": "code",
   "execution_count": 45,
   "id": "21402713-9e3b-4f43-a1aa-7a1984f2bb9a",
   "metadata": {},
   "outputs": [],
   "source": [
    "CF = CoinFlip(10, head_counts)\n",
    "\n",
    "initial_position = {'p':0.1, 'mu': jnp.array([0.2,0.4,0.1, 0.4,0.2, 0.1]).reshape((2,3))} # starting point of the NUTS sampler\n",
    "problem2 = MHSampler(CF, initial_position, limits={'p': [0,1], 'mu': [0.0, 1.0]}, step_size=0.1, backend='JAX');"
   ]
  },
  {
   "cell_type": "code",
   "execution_count": 46,
   "id": "ebd69edf-f15e-4185-bbcf-d096300800eb",
   "metadata": {},
   "outputs": [
    {
     "name": "stdout",
     "output_type": "stream",
     "text": [
      "Getting 1000 using Metropolis Hastings\n"
     ]
    },
    {
     "name": "stderr",
     "output_type": "stream",
     "text": [
      "100%|██████████████████████████████████████| 1000/1000 [00:05<00:00, 189.14it/s]\n"
     ]
    },
    {
     "name": "stdout",
     "output_type": "stream",
     "text": [
      "Sampling finished with an acceptance rate of 56.5\n"
     ]
    }
   ],
   "source": [
    "result2 = problem2.run(1000);"
   ]
  },
  {
   "cell_type": "code",
   "execution_count": 47,
   "id": "dbdfc1a6-724c-4ac3-b446-468386854dd8",
   "metadata": {},
   "outputs": [
    {
     "data": {
      "image/png": "[encoded data removed]",
      "text/plain": [
       "<Figure size 640x480 with 1 Axes>"
      ]
     },
     "metadata": {},
     "output_type": "display_data"
    }
   ],
   "source": [
    "import pandas as pd\n",
    "import matplotlib.pyplot as plt\n",
    "result = pd.DataFrame(result2)\n",
    "\n",
    "result['p'].hist(bins=100)\n",
    "plt.xlim((0,1))\n",
    "plt.axvline(p, c='r')\n",
    "plt.show()"
   ]
  },
  {
   "cell_type": "markdown",
   "id": "3235aae5-aa55-4117-a65c-78e4508c8f23",
   "metadata": {},
   "source": [
    "## Using NUTS & JAX"
   ]
  },
  {
   "cell_type": "code",
   "execution_count": 48,
   "id": "2d92a9fb-a837-4c13-b307-431186d05eb5",
   "metadata": {},
   "outputs": [],
   "source": [
    "CF = CoinFlip(10, head_counts)\n",
    "\n",
    "initial_position = {'p':0.1, 'mu': jnp.array([0.2,0.4,0.1, 0.4,0.2, 0.1])} # starting point of the NUTS sampler\n",
    "problem2 = NUTS(CF, initial_position, limits={'p': [0,1], 'mu': [0.0, 1.0]});"
   ]
  },
  {
   "cell_type": "code",
   "execution_count": 49,
   "id": "d81a8eb3-9587-449b-a367-fd8ac571c832",
   "metadata": {},
   "outputs": [
    {
     "name": "stdout",
     "output_type": "stream",
     "text": [
      "Running the inference for 1000 samples\n"
     ]
    }
   ],
   "source": [
    "result2 = problem2.run(1000);"
   ]
  },
  {
   "cell_type": "code",
   "execution_count": 50,
   "id": "70fad477-bdb2-4647-a235-9d86790db606",
   "metadata": {},
   "outputs": [
    {
     "data": {
      "image/png": "[encoded data removed]",
      "text/plain": [
       "<Figure size 640x480 with 1 Axes>"
      ]
     },
     "metadata": {},
     "output_type": "display_data"
    }
   ],
   "source": [
    "import pandas as pd\n",
    "import matplotlib.pyplot as plt\n",
    "result = pd.DataFrame(result2)\n",
    "\n",
    "result['p'].hist(bins=100)\n",
    "plt.xlim((0,1))\n",
    "plt.axvline(p, c='r')\n",
    "plt.show()"
   ]
  },
  {
   "cell_type": "markdown",
   "id": "886a148e-b2a9-4d2d-a4e3-aca71ed7dbd0",
   "metadata": {},
   "source": [
    "## Using Metropolis Hastings & Numpy"
   ]
  },
  {
   "cell_type": "code",
   "execution_count": 34,
   "id": "9f42daff-762f-4e32-bdcb-0781c895f759",
   "metadata": {},
   "outputs": [],
   "source": [
    "from bayesian_inference import NUTS, MHSampler\n",
    "import scipy\n",
    "import numpy as np\n",
    "import jax\n",
    "import jax.numpy as jnp\n",
    "\n",
    "class CoinFlip:\n",
    "    def __init__(self, N_flips, number_of_heads):\n",
    "        self.head_counts = number_of_heads \n",
    "        self.N_flips = N_flips\n",
    "\n",
    "    def logpdf(self, x):\n",
    "        p = x['p']\n",
    "        return np.sum( scipy.stats.binom.logpmf(self.head_counts, self.N_flips, p) )\n",
    "        \n",
    "\n",
    "\n",
    "#key = jax.random.PRNGKey(1)\n",
    "\n",
    "\n",
    "N_experiments = 100\n",
    "N_flips = 10\n",
    "p = 0.9\n",
    "\n",
    "import scipy\n",
    "rv = scipy.stats.binom(N_flips, p)\n",
    "head_counts = np.array(rv.rvs(N_experiments))\n",
    "\n",
    "#CoinFlip(10, head_counts).logpdf({'p':0.7})\n",
    "#LR = LinearRegressor(X,Y,noise=noise_amount)  # Instantiate the model\n",
    "\n",
    "#initial_position = {'m':0.1, 'c':0.0} # starting point of the NUTS sampler\n",
    "#problem = NUTS(LR, initial_position, limits={'m': [-4,4], 'c':[-4,4]})"
   ]
  },
  {
   "cell_type": "code",
   "execution_count": 35,
   "id": "431c7222-6713-4e62-b3bf-78a4af8108ab",
   "metadata": {},
   "outputs": [
    {
     "data": {
      "text/plain": [
       "array([ 9,  7, 10, 10,  8,  8,  9,  9,  9,  9,  9, 10, 10, 10,  9,  8, 10,\n",
       "        9,  7, 10,  9,  9,  9,  9,  9,  8,  9,  9,  8, 10, 10,  9,  9,  9,\n",
       "        9,  9,  9,  8,  8,  8,  9,  7,  7,  8,  9,  9,  9,  8,  8,  9,  9,\n",
       "        9,  8,  9, 10, 10, 10,  9,  9,  9,  9,  9,  9,  9,  7,  9,  8,  9,\n",
       "       10,  8, 10,  8,  9,  9, 10,  7,  9, 10, 10, 10,  9,  9,  7,  9, 10,\n",
       "        9,  9,  9,  7, 10,  8,  9, 10,  9, 10,  6, 10, 10, 10, 10])"
      ]
     },
     "execution_count": 35,
     "metadata": {},
     "output_type": "execute_result"
    }
   ],
   "source": [
    "head_counts"
   ]
  },
  {
   "cell_type": "code",
   "execution_count": 36,
   "id": "ab349f96-27b6-4764-9ac5-0d11e2ae3f57",
   "metadata": {},
   "outputs": [],
   "source": [
    "import numpy as np\n",
    "CF = CoinFlip(10, head_counts)\n",
    "\n",
    "initial_position = {'p':0.4, 'q': np.array([0.1,0.2])} # starting point of the NUTS sampler\n",
    "problem2 = MHSampler(CF, initial_position, limits={'p': [0,1]}, step_size=0.1, backend='numpy')"
   ]
  },
  {
   "cell_type": "code",
   "execution_count": 37,
   "id": "eb967bf3-68fe-452d-8ee9-8c7cd1a56307",
   "metadata": {},
   "outputs": [
    {
     "name": "stdout",
     "output_type": "stream",
     "text": [
      "Getting 1000 using Metropolis Hastings\n"
     ]
    },
    {
     "name": "stderr",
     "output_type": "stream",
     "text": [
      "100%|██████████████████████████████████████| 1000/1000 [00:01<00:00, 799.10it/s]\n"
     ]
    },
    {
     "name": "stdout",
     "output_type": "stream",
     "text": [
      "Sampling finished with an acceptance rate of 12.93\n"
     ]
    }
   ],
   "source": [
    "hist = problem2.run(1000);"
   ]
  },
  {
   "cell_type": "code",
   "execution_count": 38,
   "id": "769ab413-42d3-4087-9896-3feda8d60efd",
   "metadata": {},
   "outputs": [
    {
     "data": {
      "text/html": [
       "<div>\n",
       "<style scoped>\n",
       "    .dataframe tbody tr th:only-of-type {\n",
       "        vertical-align: middle;\n",
       "    }\n",
       "\n",
       "    .dataframe tbody tr th {\n",
       "        vertical-align: top;\n",
       "    }\n",
       "\n",
       "    .dataframe thead th {\n",
       "        text-align: right;\n",
       "    }\n",
       "</style>\n",
       "<table border=\"1\" class=\"dataframe\">\n",
       "  <thead>\n",
       "    <tr style=\"text-align: right;\">\n",
       "      <th></th>\n",
       "      <th>p</th>\n",
       "      <th>q</th>\n",
       "    </tr>\n",
       "  </thead>\n",
       "  <tbody>\n",
       "    <tr>\n",
       "      <th>0</th>\n",
       "      <td>0.400000</td>\n",
       "      <td>[0.1, 0.2]</td>\n",
       "    </tr>\n",
       "    <tr>\n",
       "      <th>1</th>\n",
       "      <td>0.584997</td>\n",
       "      <td>[0.030446364465971834, 0.03601920458102953]</td>\n",
       "    </tr>\n",
       "    <tr>\n",
       "      <th>2</th>\n",
       "      <td>0.743444</td>\n",
       "      <td>[0.04906714105716386, -0.07736697075775575]</td>\n",
       "    </tr>\n",
       "    <tr>\n",
       "      <th>3</th>\n",
       "      <td>0.940916</td>\n",
       "      <td>[0.02422663902888695, -0.03536362215722196]</td>\n",
       "    </tr>\n",
       "    <tr>\n",
       "      <th>4</th>\n",
       "      <td>0.892183</td>\n",
       "      <td>[-0.055472778492097245, -0.1004082952007738]</td>\n",
       "    </tr>\n",
       "    <tr>\n",
       "      <th>...</th>\n",
       "      <td>...</td>\n",
       "      <td>...</td>\n",
       "    </tr>\n",
       "    <tr>\n",
       "      <th>995</th>\n",
       "      <td>0.908755</td>\n",
       "      <td>[3.109852834412593, -3.356917661252733]</td>\n",
       "    </tr>\n",
       "    <tr>\n",
       "      <th>996</th>\n",
       "      <td>0.903126</td>\n",
       "      <td>[3.1560352460698073, -3.5156675730422884]</td>\n",
       "    </tr>\n",
       "    <tr>\n",
       "      <th>997</th>\n",
       "      <td>0.879210</td>\n",
       "      <td>[3.101863777770636, -3.655658110827405]</td>\n",
       "    </tr>\n",
       "    <tr>\n",
       "      <th>998</th>\n",
       "      <td>0.908463</td>\n",
       "      <td>[3.0573320433935285, -3.6234965769590564]</td>\n",
       "    </tr>\n",
       "    <tr>\n",
       "      <th>999</th>\n",
       "      <td>0.862118</td>\n",
       "      <td>[2.985270792169954, -3.40980822210223]</td>\n",
       "    </tr>\n",
       "  </tbody>\n",
       "</table>\n",
       "<p>1000 rows × 2 columns</p>\n",
       "</div>"
      ],
      "text/plain": [
       "            p                                             q\n",
       "0    0.400000                                    [0.1, 0.2]\n",
       "1    0.584997   [0.030446364465971834, 0.03601920458102953]\n",
       "2    0.743444   [0.04906714105716386, -0.07736697075775575]\n",
       "3    0.940916   [0.02422663902888695, -0.03536362215722196]\n",
       "4    0.892183  [-0.055472778492097245, -0.1004082952007738]\n",
       "..        ...                                           ...\n",
       "995  0.908755       [3.109852834412593, -3.356917661252733]\n",
       "996  0.903126     [3.1560352460698073, -3.5156675730422884]\n",
       "997  0.879210       [3.101863777770636, -3.655658110827405]\n",
       "998  0.908463     [3.0573320433935285, -3.6234965769590564]\n",
       "999  0.862118        [2.985270792169954, -3.40980822210223]\n",
       "\n",
       "[1000 rows x 2 columns]"
      ]
     },
     "execution_count": 38,
     "metadata": {},
     "output_type": "execute_result"
    }
   ],
   "source": [
    "import pandas as pd\n",
    "pd.DataFrame(hist)"
   ]
  },
  {
   "cell_type": "code",
   "execution_count": 39,
   "id": "a118271d-6dfc-457d-ab76-e914fa1a1603",
   "metadata": {},
   "outputs": [
    {
     "data": {
      "text/plain": [
       "<matplotlib.lines.Line2D at 0x2a9e27250>"
      ]
     },
     "execution_count": 39,
     "metadata": {},
     "output_type": "execute_result"
    },
    {
     "data": {
      "image/png": "[encoded data removed]",
      "text/plain": [
       "<Figure size 640x480 with 1 Axes>"
      ]
     },
     "metadata": {},
     "output_type": "display_data"
    }
   ],
   "source": [
    "import pandas as pd\n",
    "import matplotlib.pyplot as plt\n",
    "\n",
    "pd.DataFrame(hist).hist(bins=100)\n",
    "plt.xlim((0,1))\n",
    "plt.axvline(p, c='r')"
   ]
  },
  {
   "cell_type": "code",
   "execution_count": null,
   "id": "a4cfd628-04fd-434c-8197-e51708fe47e8",
   "metadata": {},
   "outputs": [],
   "source": []
  }
 ],
 "metadata": {
  "kernelspec": {
   "display_name": "Python 3 (ipykernel)",
   "language": "python",
   "name": "python3"
  },
  "language_info": {
   "codemirror_mode": {
    "name": "ipython",
    "version": 3
   },
   "file_extension": ".py",
   "mimetype": "text/x-python",
   "name": "python",
   "nbconvert_exporter": "python",
   "pygments_lexer": "ipython3",
   "version": "3.10.12"
  }
 },
 "nbformat": 4,
 "nbformat_minor": 5
}

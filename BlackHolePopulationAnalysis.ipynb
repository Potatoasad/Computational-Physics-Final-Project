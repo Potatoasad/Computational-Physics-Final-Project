{
 "cells": [
  {
   "cell_type": "markdown",
   "id": "79c6dfba-cb38-4d58-82f4-06196f9dcd61",
   "metadata": {},
   "source": [
    "# Inferring the Redshift Distribution of Gravitational Waves"
   ]
  },
  {
   "cell_type": "markdown",
   "id": "d591315e-6453-422c-91ab-0688de822f47",
   "metadata": {},
   "source": [
    "# Hierarchical Likelihood Inference"
   ]
  },
  {
   "cell_type": "code",
   "execution_count": 26,
   "id": "e3b5350b-f1b3-4385-b07d-63b277f0068c",
   "metadata": {},
   "outputs": [],
   "source": [
    "import numpy as np\n",
    "import pandas as pd\n",
    "import json\n",
    "import jax.numpy as jnp\n",
    "\n",
    "with open(f\"./event_posterior_samples.json\", \"r\") as f:\n",
    "    event_samples = {k:pd.DataFrame(v) for k,v in json.load(f).items()}\n",
    "\n",
    "eventnames = []\n",
    "posteriors = []\n",
    "for event, posterior in event_samples.items():\n",
    "    eventnames.append(event)\n",
    "    posteriors.append(posterior)"
   ]
  },
  {
   "cell_type": "code",
   "execution_count": 27,
   "id": "0006f78e-654f-41af-9b43-10ad36d570b8",
   "metadata": {},
   "outputs": [],
   "source": [
    "with open(f\"./selection_function_samples.json\", \"r\") as f:\n",
    "    selection_samples = pd.DataFrame(json.load(f))\n",
    "\n",
    "selections_jaxed = {col: jnp.array(selection_samples[col][1:1000]) for col in selection_samples.columns if col not in ['waveform_name', 'name']}"
   ]
  },
  {
   "cell_type": "code",
   "execution_count": 28,
   "id": "89e5c536-4207-4fe5-b3fa-d406eea67fe3",
   "metadata": {},
   "outputs": [],
   "source": [
    "posteriors_jaxed = [{col: jnp.array(post[col][1:1000]) for col in post.columns if col not in ['waveform_name']} for post in posteriors]"
   ]
  },
  {
   "cell_type": "markdown",
   "id": "622fb1bf-b1d2-4fe2-a74b-a271222f44a9",
   "metadata": {},
   "source": [
    "## Population Model Recap\n",
    "\n",
    "We use individual event likelihoods to infer the hierarchical model. \n",
    "$$\n",
    "\\begin{equation}\n",
    "p(\\Lambda \\mid d) \\propto p(\\Lambda)\\prod_i^N \\mathcal{L}\\left(d_i \\mid \\Lambda\\right)\n",
    "\\end{equation}\n",
    "$$\n",
    "where\n",
    "$$\n",
    "\\begin{equation}\n",
    "\\mathcal{L}\\left(d_i \\mid \\Lambda\\right) \\propto \\int \\frac{p\\left(\\theta \\mid d_i\\right) p(\\theta \\mid \\Lambda)}{p(\\theta)} d \\theta \\approx \n",
    "\\left\\langle  \\frac{p(\\theta \\mid \\Lambda)}{p(\\theta)}  \\right\\rangle_{\\sim p\\left(\\theta \\mid d_i\\right)}\n",
    "\\end{equation}\n",
    "$$\n",
    "\n",
    "We will \"recycle\" these posteriors and get the result for the following population model:\n"
   ]
  },
  {
   "cell_type": "code",
   "execution_count": 29,
   "id": "d460b0a7-9a81-407c-bda3-7424a96fb770",
   "metadata": {},
   "outputs": [],
   "source": [
    "import jax.numpy as jnp\n",
    "import jax"
   ]
  },
  {
   "cell_type": "code",
   "execution_count": 30,
   "id": "404fda36-f947-4bf2-93f8-98e6fb2fec1c",
   "metadata": {},
   "outputs": [],
   "source": [
    "## Mass model\n",
    "def power_law(x, L, a, b):\n",
    "    normalization = (L + 1) / (jnp.power(b, L+1) - jnp.power(a, L+1))\n",
    "    return jnp.power(x,L) * normalization\n",
    "\n",
    "def trunc_normal_pdf(x, mu, sig, a, b):\n",
    "    a_std, b_std = (a - mu) / sig, (b - mu) / sig\n",
    "    return jax.scipy.stats.truncnorm.pdf(x, a_std, b_std, loc=mu, scale=sig)"
   ]
  },
  {
   "cell_type": "code",
   "execution_count": 31,
   "id": "c192e6fe-345c-4d5d-9c1e-52cc0efa84b6",
   "metadata": {},
   "outputs": [],
   "source": [
    "class MassModel:\n",
    "    def __init__(self, m_min, m_max):\n",
    "        self.m_min = m_min\n",
    "        self.m_max = m_max\n",
    "\n",
    "    def pdf(self, data, params):\n",
    "        p_m_power_law = power_law(data['mass_1_source'], params['lambda'], self.m_min, self.m_max)\n",
    "        p_m_peak = trunc_normal_pdf(data['mass_1_source'], params['mu_m'], params['sigma_m'], self.m_min, self.m_max)\n",
    "        p_q = power_law(data['mass_ratio'], params['gamma'], self.m_min/data['mass_1_source'], 1.0)\n",
    "        p_m = params['fp'] * p_m_power_law + (1 - params['fp']) * p_m_peak\n",
    "        return p_m*p_q\n",
    "\n",
    "    def __call__(self, data, params):\n",
    "        return self.pdf(data, params)"
   ]
  },
  {
   "cell_type": "code",
   "execution_count": 32,
   "id": "0386bd03-befe-4b61-b388-4f8707f12b3e",
   "metadata": {},
   "outputs": [],
   "source": [
    "class Redshift:\n",
    "    def __init__(self, z_max):\n",
    "        from astropy.cosmology import Planck15\n",
    "        self.z = jnp.linspace(0,z_max,300)\n",
    "        self.y = Planck15.differential_comoving_volume(self.z).value * 4 * np.pi\n",
    "        self.kappas = jnp.linspace(-10,10,3000)\n",
    "        self._kappa_norms = None\n",
    "\n",
    "    def dVdz(self, z):\n",
    "        return jnp.interp(z, self.z, self.y)\n",
    "\n",
    "    def normalization_func(self, z, kappa):\n",
    "        return (1 + z)**(kappa - 1) * self.dVdz(z)\n",
    "\n",
    "    @property\n",
    "    def kappa_norms(self):\n",
    "        if self._kappa_norms is None:\n",
    "            self._normalize()\n",
    "        return self._kappa_norms\n",
    "\n",
    "    def _normalize(self):\n",
    "        self._kappa_norms = jnp.array([jax.scipy.integrate.trapezoid(self.normalization_func(self.z, float(self.kappas[i])), self.z) for i in range(len(self.kappas))])\n",
    "\n",
    "    def normalization(self, kappa):\n",
    "        return jnp.interp(kappa, self.kappas, self.kappa_norms)\n",
    "    \n",
    "    def __call__(self, data, params):\n",
    "        un_normalized = self.dVdz(data['redshift']) * ((1 + data['redshift']) ** (params[\"kappa\"]-1))\n",
    "        return un_normalized#/self.normalization(params['kappa'])"
   ]
  },
  {
   "cell_type": "code",
   "execution_count": 33,
   "id": "e41c01fb-b75c-4d3d-9207-e370b46ed742",
   "metadata": {},
   "outputs": [],
   "source": [
    "R = Redshift(1.9)\n",
    "M = MassModel(5.0, 100.0)"
   ]
  },
  {
   "cell_type": "code",
   "execution_count": 34,
   "id": "d8df5be3-93b5-4850-b813-92e0f9493677",
   "metadata": {},
   "outputs": [],
   "source": [
    "Lambda_0 = {'lambda' : 0.35, \"gamma\": 1.1, 'fp':0.98, 'mu_m':33.0, 'sigma_m':4.0, 'kappa':2.9}\n",
    "\n",
    "class CustomLikelihood:\n",
    "    def __init__(self, all_posteriors, selections, domain_changer=None):\n",
    "        self.all_posteriors = all_posteriors\n",
    "        self.selections = selections\n",
    "        self.domain_changer = domain_changer\n",
    "\n",
    "    def logpdf(self, x):\n",
    "        #x = self.domain_changer.inverse_transform(x, suffix='')\n",
    "\n",
    "        #event_likelihoods = jnp.sum(jnp.array([jnp.log(jnp.mean( ( R(post, x) / post[\"prior\"]) )) for post in self.all_posteriors]))\n",
    "        #selection_effects = -len(self.all_posteriors) * jnp.log( jnp.mean(  R(self.selections, x) / self.selections[\"prior\"]) )\n",
    "\n",
    "        event_likelihoods = jnp.sum(jnp.array([jnp.log(jnp.mean( (M(post, x) * R(post, x) / post[\"prior\"]) )) for post in self.all_posteriors]))\n",
    "        selection_effects = -len(self.all_posteriors) * jnp.log( jnp.mean( M(self.selections, x) * R(self.selections, x) / self.selections[\"prior\"]) )\n",
    "        return event_likelihoods + selection_effects"
   ]
  },
  {
   "cell_type": "code",
   "execution_count": 15,
   "id": "ca4a5821-d119-4122-a300-c778176fd8f7",
   "metadata": {
    "jupyter": {
     "source_hidden": true
    }
   },
   "outputs": [],
   "source": [
    "class DomainChanger:\n",
    "    def __init__(self, ranges):\n",
    "        self.ranges = ranges\n",
    "    \n",
    "    def transform_to_infinite(self, x, a, b):\n",
    "        # Normalize x to [0, 1]\n",
    "        normalized_x = (x - a) / (b - a)\n",
    "    \n",
    "        # Avoid division by zero or log of zero\n",
    "        epsilon = 1e-5\n",
    "        normalized_x = jnp.clip(normalized_x, epsilon, 1 - epsilon)\n",
    "    \n",
    "        # Transform to (-∞, +∞)\n",
    "        infinite_x = jnp.log(normalized_x / (1 - normalized_x))\n",
    "        return infinite_x\n",
    "\n",
    "    def inverse_transform_from_infinite(self, y, a, b):\n",
    "        # Transform from (-∞, +∞) to [0, 1]\n",
    "        normalized_y = 1 / (1 + jnp.exp(-y))\n",
    "    \n",
    "        # Inverse normalize to [a, b]\n",
    "        x = normalized_y * (b - a) + a\n",
    "        return x\n",
    "\n",
    "    def transform(self, x, suffix = '_transformed'):\n",
    "        keys = list(self.ranges.keys())\n",
    "        new_x = {}\n",
    "        for key in keys:\n",
    "            if self.ranges[key] == 'infinite':\n",
    "                new_x[key + suffix] = x[key]\n",
    "            else:\n",
    "                new_x[key + suffix] = self.transform_to_infinite(x[key], self.ranges[key][0], self.ranges[key][1])\n",
    "\n",
    "        return new_x\n",
    "\n",
    "    def inverse_transform(self, x, suffix='_transformed'):\n",
    "        keys = list(self.ranges.keys())\n",
    "        new_x = {}\n",
    "        for key in keys:\n",
    "            if self.ranges[key] == 'infinite':\n",
    "                new_x[key] = x[key + suffix]\n",
    "            else:\n",
    "                new_x[key] = self.inverse_transform_from_infinite(x[key + suffix], self.ranges[key][0], self.ranges[key][1])\n",
    "\n",
    "        return new_x\n",
    "\n",
    "    def transform_in_place(self, x):\n",
    "        keys = list(self.ranges.keys())\n",
    "        for key in keys:\n",
    "            if self.ranges[key] == 'infinite':\n",
    "                x[key] = x[key]\n",
    "            else:\n",
    "                x[key] = self.transform_to_infinite(x[key], self.ranges[key][0], self.ranges[key][1])\n",
    "\n",
    "        return x\n",
    "\n",
    "    def inverse_transform_in_place(self, x):\n",
    "        keys = list(self.ranges.keys())\n",
    "        for key in keys:\n",
    "            if self.ranges[key] == 'infinite':\n",
    "                x[key] = x[key]\n",
    "            else:\n",
    "                x[key] = self.inverse_transform_from_infinite(x[key], self.ranges[key][0], self.ranges[key][1])\n",
    "\n",
    "        return x\n",
    "        "
   ]
  },
  {
   "cell_type": "code",
   "execution_count": 35,
   "id": "92a02f24-70d2-4500-a34c-a426dd8d3c46",
   "metadata": {},
   "outputs": [],
   "source": [
    "from bayesian_inference import NUTS#, DomainChanger\n",
    "import jax\n",
    "\n",
    " #DC = DomainChanger()\n",
    "limits = {'lambda' : [-5,2], \"gamma\": [-3,3], 'fp':[0,1], 'mu_m':[10,50], 'sigma_m':[3,10], 'kappa':[0,10]}\n",
    "#DC = DomainChanger(limits)\n",
    "\n",
    "Lambda_0 = {'lambda' : -2.35, \"gamma\": 1.1, 'fp':0.98, 'mu_m':33.0, 'sigma_m':4.0, 'kappa':2.9}\n",
    "#DC.transform_in_place(Lambda_0)\n",
    "#Lambda_0"
   ]
  },
  {
   "cell_type": "code",
   "execution_count": 36,
   "id": "cf2b6055-eb8c-4843-ab4e-6354332cb164",
   "metadata": {},
   "outputs": [],
   "source": [
    "CL = CustomLikelihood(posteriors_jaxed[1:2], selections_jaxed)"
   ]
  },
  {
   "cell_type": "code",
   "execution_count": 37,
   "id": "31a70564-1415-4426-a193-42a4cdb0a29d",
   "metadata": {},
   "outputs": [
    {
     "name": "stdout",
     "output_type": "stream",
     "text": [
      "-6.2189083\n"
     ]
    },
    {
     "data": {
      "text/plain": [
       "{'fp': Array(0.6403246, dtype=float32, weak_type=True),\n",
       " 'gamma': Array(-0.2155858, dtype=float32, weak_type=True),\n",
       " 'kappa': Array(-0.19080983, dtype=float32, weak_type=True),\n",
       " 'lambda': Array(-0.64346576, dtype=float32, weak_type=True),\n",
       " 'mu_m': Array(-0.02054048, dtype=float32, weak_type=True),\n",
       " 'sigma_m': Array(0.0034267, dtype=float32, weak_type=True)}"
      ]
     },
     "execution_count": 37,
     "metadata": {},
     "output_type": "execute_result"
    }
   ],
   "source": [
    "print(CL.logpdf(Lambda_0))\n",
    "new = jax.grad(CL.logpdf)\n",
    "new(Lambda_0)\n",
    "#new(kappa_0)"
   ]
  },
  {
   "cell_type": "code",
   "execution_count": 38,
   "id": "34f2290b-aced-4a67-9fc0-d837c263b3a1",
   "metadata": {},
   "outputs": [
    {
     "name": "stdout",
     "output_type": "stream",
     "text": [
      "{'lambda': Array([-2.35], dtype=float32), 'gamma': Array([1.1], dtype=float32), 'fp': Array([0.98], dtype=float32), 'mu_m': Array([33.], dtype=float32), 'sigma_m': Array([4.], dtype=float32), 'kappa': Array([2.9], dtype=float32)} {'lambda': Array([-11.512916], dtype=float32), 'gamma': Array([-2.0907412], dtype=float32), 'fp': Array([-2.219647], dtype=float32), 'mu_m': Array([11.511559], dtype=float32), 'sigma_m': Array([-0.40546516], dtype=float32), 'kappa': Array([-0.89538395], dtype=float32)}\n"
     ]
    }
   ],
   "source": [
    "N = NUTS(CL, Lambda_0, limits=limits)"
   ]
  },
  {
   "cell_type": "code",
   "execution_count": 39,
   "id": "40a2d25b-ce74-481d-881b-01a7cbf7b613",
   "metadata": {},
   "outputs": [
    {
     "name": "stdout",
     "output_type": "stream",
     "text": [
      "Running the inference for 100 samples\n"
     ]
    }
   ],
   "source": [
    "result = N.run(100)"
   ]
  },
  {
   "cell_type": "code",
   "execution_count": 44,
   "id": "6867598e-31a4-4201-9a9b-9db60a106f08",
   "metadata": {},
   "outputs": [
    {
     "data": {
      "text/plain": [
       "[<matplotlib.lines.Line2D at 0x29b793c10>]"
      ]
     },
     "execution_count": 44,
     "metadata": {},
     "output_type": "execute_result"
    },
    {
     "data": {
      "image/png": "[encoded data removed]",
      "text/plain": [
       "<Figure size 640x480 with 1 Axes>"
      ]
     },
     "metadata": {},
     "output_type": "display_data"
    }
   ],
   "source": [
    "test_func = lambda x: N.domain_changer.inverse_transform_from_infinite(N.domain_changer.transform_to_infinite(x, 0, 1), 0, 1)\n",
    "\n",
    "import matplotlib.pyplot as plt\n",
    "plt.plot(np.linspace(0,1,100),  test_func(np.linspace(0,1,100)))"
   ]
  },
  {
   "cell_type": "code",
   "execution_count": 53,
   "id": "57b62789-e38b-450c-ba26-5bee1579d069",
   "metadata": {},
   "outputs": [],
   "source": [
    "result_transformed = {k:jnp.array(result[k]) for k in result.copy().columns}\n",
    "CL.domain_changer.inverse_transform_in_place(result_transformed)\n",
    "result_transformed = pd.DataFrame(result_transformed)"
   ]
  },
  {
   "cell_type": "code",
   "execution_count": 56,
   "id": "08441862-9ef0-46c6-ae6e-dea1542e022f",
   "metadata": {},
   "outputs": [
    {
     "data": {
      "text/html": [
       "<div>\n",
       "<style scoped>\n",
       "    .dataframe tbody tr th:only-of-type {\n",
       "        vertical-align: middle;\n",
       "    }\n",
       "\n",
       "    .dataframe tbody tr th {\n",
       "        vertical-align: top;\n",
       "    }\n",
       "\n",
       "    .dataframe thead th {\n",
       "        text-align: right;\n",
       "    }\n",
       "</style>\n",
       "<table border=\"1\" class=\"dataframe\">\n",
       "  <thead>\n",
       "    <tr style=\"text-align: right;\">\n",
       "      <th></th>\n",
       "      <th>fp</th>\n",
       "      <th>gamma</th>\n",
       "      <th>kappa</th>\n",
       "      <th>lambda</th>\n",
       "      <th>mu_m</th>\n",
       "      <th>sigma_m</th>\n",
       "    </tr>\n",
       "  </thead>\n",
       "  <tbody>\n",
       "    <tr>\n",
       "      <th>0</th>\n",
       "      <td>-48.664772</td>\n",
       "      <td>-60.587166</td>\n",
       "      <td>304.759216</td>\n",
       "      <td>502.089325</td>\n",
       "      <td>12.630095</td>\n",
       "      <td>75.958687</td>\n",
       "    </tr>\n",
       "    <tr>\n",
       "      <th>1</th>\n",
       "      <td>-79.967819</td>\n",
       "      <td>-51.738228</td>\n",
       "      <td>420.871521</td>\n",
       "      <td>306.243378</td>\n",
       "      <td>6.227320</td>\n",
       "      <td>69.513924</td>\n",
       "    </tr>\n",
       "    <tr>\n",
       "      <th>2</th>\n",
       "      <td>-72.176231</td>\n",
       "      <td>-51.131386</td>\n",
       "      <td>422.118530</td>\n",
       "      <td>295.722443</td>\n",
       "      <td>7.424504</td>\n",
       "      <td>70.870544</td>\n",
       "    </tr>\n",
       "    <tr>\n",
       "      <th>3</th>\n",
       "      <td>-26.729658</td>\n",
       "      <td>-81.329216</td>\n",
       "      <td>699.901550</td>\n",
       "      <td>260.087189</td>\n",
       "      <td>60.403507</td>\n",
       "      <td>68.422508</td>\n",
       "    </tr>\n",
       "    <tr>\n",
       "      <th>4</th>\n",
       "      <td>-5.078474</td>\n",
       "      <td>-33.296501</td>\n",
       "      <td>1028.398315</td>\n",
       "      <td>63.173100</td>\n",
       "      <td>46.668640</td>\n",
       "      <td>82.971046</td>\n",
       "    </tr>\n",
       "    <tr>\n",
       "      <th>...</th>\n",
       "      <td>...</td>\n",
       "      <td>...</td>\n",
       "      <td>...</td>\n",
       "      <td>...</td>\n",
       "      <td>...</td>\n",
       "      <td>...</td>\n",
       "    </tr>\n",
       "    <tr>\n",
       "      <th>995</th>\n",
       "      <td>466.398560</td>\n",
       "      <td>310.527985</td>\n",
       "      <td>796.583740</td>\n",
       "      <td>-53.908718</td>\n",
       "      <td>752.968811</td>\n",
       "      <td>1484.310425</td>\n",
       "    </tr>\n",
       "    <tr>\n",
       "      <th>996</th>\n",
       "      <td>465.000519</td>\n",
       "      <td>312.826385</td>\n",
       "      <td>801.687073</td>\n",
       "      <td>-81.881317</td>\n",
       "      <td>763.814575</td>\n",
       "      <td>1500.555176</td>\n",
       "    </tr>\n",
       "    <tr>\n",
       "      <th>997</th>\n",
       "      <td>468.122314</td>\n",
       "      <td>310.471375</td>\n",
       "      <td>834.728027</td>\n",
       "      <td>-85.735611</td>\n",
       "      <td>766.050659</td>\n",
       "      <td>1489.450928</td>\n",
       "    </tr>\n",
       "    <tr>\n",
       "      <th>998</th>\n",
       "      <td>493.003967</td>\n",
       "      <td>332.404114</td>\n",
       "      <td>967.518677</td>\n",
       "      <td>-29.848114</td>\n",
       "      <td>791.934082</td>\n",
       "      <td>1519.297119</td>\n",
       "    </tr>\n",
       "    <tr>\n",
       "      <th>999</th>\n",
       "      <td>500.178162</td>\n",
       "      <td>336.023285</td>\n",
       "      <td>963.884094</td>\n",
       "      <td>-12.837432</td>\n",
       "      <td>791.861694</td>\n",
       "      <td>1535.195679</td>\n",
       "    </tr>\n",
       "  </tbody>\n",
       "</table>\n",
       "<p>1000 rows × 6 columns</p>\n",
       "</div>"
      ],
      "text/plain": [
       "             fp       gamma        kappa      lambda        mu_m      sigma_m\n",
       "0    -48.664772  -60.587166   304.759216  502.089325   12.630095    75.958687\n",
       "1    -79.967819  -51.738228   420.871521  306.243378    6.227320    69.513924\n",
       "2    -72.176231  -51.131386   422.118530  295.722443    7.424504    70.870544\n",
       "3    -26.729658  -81.329216   699.901550  260.087189   60.403507    68.422508\n",
       "4     -5.078474  -33.296501  1028.398315   63.173100   46.668640    82.971046\n",
       "..          ...         ...          ...         ...         ...          ...\n",
       "995  466.398560  310.527985   796.583740  -53.908718  752.968811  1484.310425\n",
       "996  465.000519  312.826385   801.687073  -81.881317  763.814575  1500.555176\n",
       "997  468.122314  310.471375   834.728027  -85.735611  766.050659  1489.450928\n",
       "998  493.003967  332.404114   967.518677  -29.848114  791.934082  1519.297119\n",
       "999  500.178162  336.023285   963.884094  -12.837432  791.861694  1535.195679\n",
       "\n",
       "[1000 rows x 6 columns]"
      ]
     },
     "execution_count": 56,
     "metadata": {},
     "output_type": "execute_result"
    }
   ],
   "source": [
    "result"
   ]
  },
  {
   "cell_type": "code",
   "execution_count": 21,
   "id": "75dc883f-ae82-4072-b85c-dd49e6993b01",
   "metadata": {},
   "outputs": [
    {
     "name": "stdout",
     "output_type": "stream",
     "text": [
      "{'m': Array([0.1], dtype=float32), 'c': Array([0.], dtype=float32)} {'m': Array([0.05001042], dtype=float32), 'c': Array([0.], dtype=float32)}\n"
     ]
    }
   ],
   "source": [
    "from bayesian_inference import NUTS\n",
    "import jax\n",
    "import jax.numpy as jnp\n",
    "\n",
    "class LinearRegressor:\n",
    "    def __init__(self, X, Y, noise=1):\n",
    "        self.X = X\n",
    "        self.Y = Y\n",
    "        self.noise = noise\n",
    "\n",
    "    def logpdf(self, x):\n",
    "        Z = (self.Y - x['m']*self.X - x['c'])/self.noise\n",
    "        return jnp.sum(-(Z**2))/2 \n",
    "\n",
    "\n",
    "key = jax.random.PRNGKey(1)\n",
    "\n",
    "m = 2.0\n",
    "c = 2.0\n",
    "X = jnp.linspace(0,10,100)\n",
    "noise_amount = 1.0\n",
    "eps = noise_amount*jax.random.normal(key, X.shape)\n",
    "\n",
    "Y = m*X + c + eps\n",
    "\n",
    "LR = LinearRegressor(X,Y,noise=noise_amount)  # Instantiate the model\n",
    "\n",
    "initial_position = {'m':0.1, 'c':0.0} # starting point of the NUTS sampler\n",
    "problem = NUTS(LR, initial_position, limits={'m': [-4,4], 'c':[-4,4]})"
   ]
  },
  {
   "cell_type": "code",
   "execution_count": 22,
   "id": "37a02312-9c07-4a1f-b4c6-5ff98db5f88c",
   "metadata": {},
   "outputs": [
    {
     "data": {
      "text/plain": [
       "Array(-8175.563, dtype=float32)"
      ]
     },
     "execution_count": 22,
     "metadata": {},
     "output_type": "execute_result"
    }
   ],
   "source": [
    "problem.likelihood_func( problem.domain_changer.transform(initial_position) )"
   ]
  },
  {
   "cell_type": "code",
   "execution_count": 23,
   "id": "0e1cdb86-aec0-42cd-b9d7-37fe35d799af",
   "metadata": {},
   "outputs": [
    {
     "data": {
      "text/plain": [
       "Array(-8176.9478, dtype=float32)"
      ]
     },
     "execution_count": 23,
     "metadata": {},
     "output_type": "execute_result"
    }
   ],
   "source": [
    "problem.likelihood.logpdf(initial_position)"
   ]
  },
  {
   "cell_type": "code",
   "execution_count": 24,
   "id": "65b212b7-7f4e-4231-a2a4-7b5ed8ac6857",
   "metadata": {},
   "outputs": [
    {
     "name": "stdout",
     "output_type": "stream",
     "text": [
      "Running the inference for 1000 samples\n"
     ]
    }
   ],
   "source": [
    "result1 = problem.run(1000)"
   ]
  },
  {
   "cell_type": "code",
   "execution_count": 25,
   "id": "3f9f9e5a-358e-4184-a473-57333dd8f9d8",
   "metadata": {},
   "outputs": [
    {
     "data": {
      "text/plain": [
       "array([[<Axes: title={'center': 'm'}>, <Axes: title={'center': 'c'}>]],\n",
       "      dtype=object)"
      ]
     },
     "execution_count": 25,
     "metadata": {},
     "output_type": "execute_result"
    },
    {
     "data": {
      "image/png": "[encoded data removed]",
      "text/plain": [
       "<Figure size 640x480 with 2 Axes>"
      ]
     },
     "metadata": {},
     "output_type": "display_data"
    }
   ],
   "source": [
    "import pandas as pd\n",
    "#pd.DataFrame(problem.domain_changer.inverse_transform(problem.states.position)).hist()\n",
    "result1.hist()"
   ]
  },
  {
   "cell_type": "code",
   "execution_count": 80,
   "id": "992ad357-eae8-4470-b842-4e33b3008ecc",
   "metadata": {},
   "outputs": [],
   "source": [
    "from bayesian_inference import NUTS\n",
    "import jax\n",
    "import jax.numpy as jnp\n",
    "import scipy\n",
    "\n",
    "class CoinFlip:\n",
    "    def __init__(self, N_flips, number_of_heads):\n",
    "        self.head_counts = number_of_heads \n",
    "        self.N_flips = N_flips\n",
    "\n",
    "    def logpdf(self, x):\n",
    "        p = x['p']\n",
    "        return jnp.sum( jax.scipy.stats.binom.logpmf(self.head_counts, self.N_flips, p) )\n",
    "        \n",
    "\n",
    "\n",
    "key = jax.random.PRNGKey(1)\n",
    "\n",
    "\n",
    "N_experiments = 100\n",
    "N_flips = 10\n",
    "p = 0.7\n",
    "\n",
    "import scipy\n",
    "rv = scipy.stats.binom(N_flips, p)\n",
    "head_counts = jnp.array(rv.rvs(N_experiments))\n",
    "\n",
    "#CoinFlip(10, head_counts).logpdf({'p':0.7})\n",
    "#LR = LinearRegressor(X,Y,noise=noise_amount)  # Instantiate the model\n",
    "\n",
    "#initial_position = {'m':0.1, 'c':0.0} # starting point of the NUTS sampler\n",
    "#problem = NUTS(LR, initial_position, limits={'m': [-4,4], 'c':[-4,4]})"
   ]
  },
  {
   "cell_type": "code",
   "execution_count": 81,
   "id": "21402713-9e3b-4f43-a1aa-7a1984f2bb9a",
   "metadata": {},
   "outputs": [
    {
     "name": "stdout",
     "output_type": "stream",
     "text": [
      "{'p': Array([1.e-06], dtype=float32)} {'p': Array([-11.512916], dtype=float32)}\n"
     ]
    }
   ],
   "source": [
    "CF = CoinFlip(10, head_counts)\n",
    "\n",
    "initial_position = {'p':1e-6} # starting point of the NUTS sampler\n",
    "problem2 = NUTS(CF, initial_position, limits={'p': [0,1]})"
   ]
  },
  {
   "cell_type": "code",
   "execution_count": 82,
   "id": "ebd69edf-f15e-4185-bbcf-d096300800eb",
   "metadata": {},
   "outputs": [
    {
     "name": "stdout",
     "output_type": "stream",
     "text": [
      "Running the inference for 10000 samples\n"
     ]
    }
   ],
   "source": [
    "result2 = problem2.run(10000);"
   ]
  },
  {
   "cell_type": "code",
   "execution_count": 83,
   "id": "da91197c-fd31-474c-b7c0-663d9edec399",
   "metadata": {},
   "outputs": [
    {
     "data": {
      "text/plain": [
       "<matplotlib.lines.Line2D at 0x17c757ac0>"
      ]
     },
     "execution_count": 83,
     "metadata": {},
     "output_type": "execute_result"
    },
    {
     "data": {
      "image/png": "[encoded data removed]",
      "text/plain": [
       "<Figure size 640x480 with 1 Axes>"
      ]
     },
     "metadata": {},
     "output_type": "display_data"
    }
   ],
   "source": [
    "result2.hist()\n",
    "plt.axvline(p, c='r')"
   ]
  },
  {
   "cell_type": "code",
   "execution_count": null,
   "id": "1959b695-eb9c-4832-8952-c42c405bec1a",
   "metadata": {},
   "outputs": [],
   "source": []
  }
 ],
 "metadata": {
  "kernelspec": {
   "display_name": "Python 3 (ipykernel)",
   "language": "python",
   "name": "python3"
  },
  "language_info": {
   "codemirror_mode": {
    "name": "ipython",
    "version": 3
   },
   "file_extension": ".py",
   "mimetype": "text/x-python",
   "name": "python",
   "nbconvert_exporter": "python",
   "pygments_lexer": "ipython3",
   "version": "3.10.12"
  }
 },
 "nbformat": 4,
 "nbformat_minor": 5
}
